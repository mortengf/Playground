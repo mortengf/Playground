{
 "cells": [
  {
   "cell_type": "markdown",
   "id": "ffd68455",
   "metadata": {},
   "source": [
    "# Machine Learning Fun\n",
    "Let's learn some ML using python and Jupyter Notebook."
   ]
  },
  {
   "cell_type": "markdown",
   "id": "668f72c8",
   "metadata": {},
   "source": [
    "## Example 1: Hello, World"
   ]
  },
  {
   "cell_type": "code",
   "execution_count": 1,
   "id": "f4e32431",
   "metadata": {},
   "outputs": [
    {
     "name": "stdout",
     "output_type": "stream",
     "text": [
      "Hello, Morten\n"
     ]
    }
   ],
   "source": [
    "my_name = \"Morten\"\n",
    "hello_statement = \"Hello, \" + my_name\n",
    "print(hello_statement, end=\"\\n\")"
   ]
  },
  {
   "cell_type": "markdown",
   "id": "594f2651",
   "metadata": {},
   "source": [
    "## Example 2: A loop"
   ]
  },
  {
   "cell_type": "code",
   "execution_count": 2,
   "id": "fe74d11e",
   "metadata": {},
   "outputs": [
    {
     "name": "stdout",
     "output_type": "stream",
     "text": [
      "j=1  x=11\n",
      "j=2  x=13\n",
      "j=3  x=16\n",
      "j=4  x=20\n"
     ]
    }
   ],
   "source": [
    "x = 10\n",
    "\n",
    "for j in range(1, 5):\n",
    "    x = x + j\n",
    "    print(\"j={0}  x={1}\".format(j, x))"
   ]
  },
  {
   "cell_type": "code",
   "execution_count": null,
   "id": "97342ac5",
   "metadata": {},
   "outputs": [],
   "source": []
  }
 ],
 "metadata": {
  "kernelspec": {
   "display_name": "Python 3 (ipykernel)",
   "language": "python",
   "name": "python3"
  },
  "language_info": {
   "codemirror_mode": {
    "name": "ipython",
    "version": 3
   },
   "file_extension": ".py",
   "mimetype": "text/x-python",
   "name": "python",
   "nbconvert_exporter": "python",
   "pygments_lexer": "ipython3",
   "version": "3.9.12"
  }
 },
 "nbformat": 4,
 "nbformat_minor": 5
}
